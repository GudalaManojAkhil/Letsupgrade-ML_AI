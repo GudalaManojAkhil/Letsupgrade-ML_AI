{
 "cells": [
  {
   "cell_type": "markdown",
   "metadata": {},
   "source": [
    "# Day 4 Assignment"
   ]
  },
  {
   "cell_type": "markdown",
   "metadata": {},
   "source": [
    "Research on whether addition, subtraction, multiplication, division, floor division and modulo\n",
    "operations be performed on complex numbers. Based on your study, implement a Python\n",
    "program to demonstrate these operations.\n"
   ]
  },
  {
   "cell_type": "code",
   "execution_count": 6,
   "metadata": {},
   "outputs": [
    {
     "name": "stdout",
     "output_type": "stream",
     "text": [
      "Addition of (2+3j) and (1+2j) is (3+5j)\n",
      "Subtraction of (2+3j) and (1+2j) is (1+1j)\n",
      "Multiplication of (2+3j) and (1+2j) is (-4+7j)\n",
      "Division of (2+3j) and (1+2j) is (1.6-0.2j)\n"
     ]
    }
   ],
   "source": [
    "a = complex(2, 3) \n",
    "b = complex(1, 2) \n",
    "c=a+b\n",
    "d=a-b\n",
    "e=a*b\n",
    "f=a/b\n",
    "#floor=a//b\n",
    "#modulo=a%b\n",
    "print(\"Addition of {} and {} is {}\".format(a,b,c))\n",
    "print(\"Subtraction of {} and {} is {}\".format(a,b,d))\n",
    "print(\"Multiplication of {} and {} is {}\".format(a,b,e))\n",
    "print(\"Division of {} and {} is {}\".format(a,b,f))"
   ]
  },
  {
   "cell_type": "markdown",
   "metadata": {},
   "source": [
    "Research on range() functions and its parameters. Create a markdown cell and write in your own\n",
    "words (no copy-paste from google please) what you understand about it. Implement a small\n",
    "program of your choice on the same."
   ]
  },
  {
   "cell_type": "raw",
   "metadata": {},
   "source": [
    "*Range is a datatype in python which is used to generate a series of integers\n",
    "*A range object can be created by using a built-in-function range\n",
    "*Its's accepts 3 arguments\n",
    "  1.The start of the series\n",
    "  2.The end of the series\n",
    "  3.The step\n",
    "*Here first argument is a normal argument and other two arguments are optional\n",
    "Syntax:\n",
    "   range<(size>,<and>+1,<step>)"
   ]
  },
  {
   "cell_type": "code",
   "execution_count": 8,
   "metadata": {},
   "outputs": [
    {
     "name": "stdout",
     "output_type": "stream",
     "text": [
      "******\n",
      "*****\n",
      "****\n",
      "***\n",
      "**\n",
      "*\n",
      "\n",
      "*\n",
      "**\n",
      "***\n",
      "****\n",
      "*****\n"
     ]
    }
   ],
   "source": [
    "for i in range(6,0,-1):\n",
    "    print(\"*\"*i)\n",
    "for i in range(6):\n",
    "    print(\"*\"*i)\n",
    "    "
   ]
  },
  {
   "cell_type": "markdown",
   "metadata": {},
   "source": [
    "Consider two numbers. Perform their subtraction and if the result of subtraction is greater than\n",
    "25, print their multiplication result else print their division result.\n"
   ]
  },
  {
   "cell_type": "code",
   "execution_count": 12,
   "metadata": {},
   "outputs": [
    {
     "name": "stdout",
     "output_type": "stream",
     "text": [
      "6\n",
      "3\n",
      "2.0\n"
     ]
    }
   ],
   "source": [
    "a=int(input())\n",
    "b=int(input())\n",
    "if (a-b)>25:\n",
    "    print(a*b)\n",
    "else:\n",
    "    print(a/b)"
   ]
  },
  {
   "cell_type": "markdown",
   "metadata": {},
   "source": [
    "Consider a list of 10 elements of integer values. If the number in the list is divisible by 2, print the\n",
    "result as \"square of that number minus 2\".\n"
   ]
  },
  {
   "cell_type": "code",
   "execution_count": null,
   "metadata": {},
   "outputs": [],
   "source": [
    "arr=list(map(int,input().split()))\n",
    "for i in arr:\n",
    "    if (i>7 and i%2==0):\n",
    "        print(\"if the number in the \",arr,\"is divisible by 2 and Square of that\",i,\"minus 2\")\n",
    "        "
   ]
  },
  {
   "cell_type": "markdown",
   "metadata": {},
   "source": [
    "Consider a list of 10 elements. Print all the elements in the list which are greater than 7 when that\n",
    "number is divided 2."
   ]
  },
  {
   "cell_type": "code",
   "execution_count": 17,
   "metadata": {},
   "outputs": [
    {
     "name": "stdout",
     "output_type": "stream",
     "text": [
      "2 4 6 8 10 12 14 16 18 20\n",
      "Division of 16 with 2 is greater than 7\n",
      "Division of 18 with 2 is greater than 7\n",
      "Division of 20 with 2 is greater than 7\n"
     ]
    }
   ],
   "source": [
    "arr=list(map(int,input().split()))\n",
    "for i in arr:\n",
    "    if (i/2)>7:\n",
    "        print(\"Division of\",i,\"with 2 is greater than 7\")"
   ]
  },
  {
   "cell_type": "code",
   "execution_count": null,
   "metadata": {},
   "outputs": [],
   "source": []
  }
 ],
 "metadata": {
  "kernelspec": {
   "display_name": "Python 3",
   "language": "python",
   "name": "python3"
  },
  "language_info": {
   "codemirror_mode": {
    "name": "ipython",
    "version": 3
   },
   "file_extension": ".py",
   "mimetype": "text/x-python",
   "name": "python",
   "nbconvert_exporter": "python",
   "pygments_lexer": "ipython3",
   "version": "3.7.3"
  }
 },
 "nbformat": 4,
 "nbformat_minor": 2
}
