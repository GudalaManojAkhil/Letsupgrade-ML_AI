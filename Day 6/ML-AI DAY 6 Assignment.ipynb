{
 "cells": [
  {
   "cell_type": "markdown",
   "metadata": {},
   "source": [
    "# Day 6 Assignment"
   ]
  },
  {
   "cell_type": "raw",
   "metadata": {},
   "source": [
    "Assuming that we have some email addresses in the \"username@companyname.com\" format, please write program\n",
    "to print the company name of a given email address. Both user names and company names are composed of letters\n",
    "only.\n",
    "Input Format:\n",
    "The first line of the input contains an email address.\n",
    "Output Format:\n",
    "Print the company name in single line.\n",
    "Example;\n",
    "Input:\n",
    "john@google.com\n",
    "Output:\n",
    "google"
   ]
  },
  {
   "cell_type": "code",
   "execution_count": 2,
   "metadata": {},
   "outputs": [
    {
     "name": "stdout",
     "output_type": "stream",
     "text": [
      "johnn@google.com\n",
      "google\n"
     ]
    }
   ],
   "source": [
    "n=input()\n",
    "a=n.split(\"@\")\n",
    "b=a[1].split(\".\")\n",
    "print(b[0])"
   ]
  },
  {
   "cell_type": "raw",
   "metadata": {},
   "source": [
    "Write a program that accepts a comma-separated sequence of words as input and prints the words in a comma\n",
    "separated sequence after sorting them alphabetically.\n",
    "Input Format:\n",
    "The first line of input contains words separated by the comma.\n",
    "Output Format:\n",
    "Print the sorted words separated by the comma.\n",
    "Example:\n",
    "Input:\n",
    "without,hello,bag,world\n",
    "Output:\n",
    "bag,hello,without,world"
   ]
  },
  {
   "cell_type": "code",
   "execution_count": 3,
   "metadata": {},
   "outputs": [
    {
     "name": "stdout",
     "output_type": "stream",
     "text": [
      "without,hello,bag,world\n",
      "bag,hello,without,world\n"
     ]
    }
   ],
   "source": [
    "s=input().split(\",\")\n",
    "s.sort()\n",
    "g=\",\".join(s)\n",
    "print(g)"
   ]
  },
  {
   "cell_type": "raw",
   "metadata": {},
   "source": [
    "Create your own Jupyter Notebook for Sets.\n",
    "Reference link: https://www.w3schools.com/python/python_sets.asp"
   ]
  },
  {
   "cell_type": "code",
   "execution_count": 8,
   "metadata": {},
   "outputs": [
    {
     "name": "stdout",
     "output_type": "stream",
     "text": [
      "{'apple', 'grapes', 'banana'}\n"
     ]
    }
   ],
   "source": [
    "#create a set:\n",
    "a={\"apple\",\"banana\",\"grapes\"}\n",
    "print(a)"
   ]
  },
  {
   "cell_type": "code",
   "execution_count": 9,
   "metadata": {},
   "outputs": [
    {
     "name": "stdout",
     "output_type": "stream",
     "text": [
      "apple\n",
      "grapes\n",
      "banana\n"
     ]
    }
   ],
   "source": [
    "#loops:\n",
    "for x in a:\n",
    "    print(x)"
   ]
  },
  {
   "cell_type": "code",
   "execution_count": 10,
   "metadata": {},
   "outputs": [
    {
     "name": "stdout",
     "output_type": "stream",
     "text": [
      "True\n"
     ]
    }
   ],
   "source": [
    "print(\"banana\" in a)"
   ]
  },
  {
   "cell_type": "code",
   "execution_count": 16,
   "metadata": {},
   "outputs": [
    {
     "name": "stdout",
     "output_type": "stream",
     "text": [
      "{'grapes', 'orange', 'apple', 'mango', 'guava'}\n",
      "{'grapes', 'orange', 'apple', 'mango', 'guava'}\n",
      "{'grapes', 'orange', 'apple', 'guava'}\n",
      "4\n"
     ]
    }
   ],
   "source": [
    "#add\n",
    "a.add(\"guava\")\n",
    "print(a)\n",
    "#update\n",
    "a.update([\"orange\",\"mango\",\"grapes\"])\n",
    "print(a)\n",
    "#remove\n",
    "a.remove(\"mango\")\n",
    "print(a)\n",
    "#len\n",
    "print(len(a))\n",
    "\n"
   ]
  },
  {
   "cell_type": "code",
   "execution_count": 17,
   "metadata": {},
   "outputs": [
    {
     "name": "stdout",
     "output_type": "stream",
     "text": [
      "{'grapes', 'orange', 'guava'}\n"
     ]
    }
   ],
   "source": [
    "#discard\n",
    "a.discard(\"apple\")\n",
    "print(a)"
   ]
  },
  {
   "cell_type": "raw",
   "metadata": {},
   "source": [
    "Given a list of n-1 numbers ranging from 1 to n, your task is to find the missing number. There are no duplicates.\n",
    "Input Format:\n",
    "The first line contains n-1 numbers with each number separated by a space.\n",
    "Output Format:\n",
    "Print the missing number\n",
    "Example:\n",
    "Input:1 2 4 6 3 7 8\n",
    "Output:5\n",
    "Explanation:\n",
    "In the above list of numbers 5 is missing and hence 5 is the input"
   ]
  },
  {
   "cell_type": "code",
   "execution_count": 4,
   "metadata": {},
   "outputs": [
    {
     "name": "stdout",
     "output_type": "stream",
     "text": [
      "1 2 4 6 3 7 8\n",
      "3\n"
     ]
    }
   ],
   "source": [
    "a=list(map(int,input().split()))\n",
    "for i in range(len(a)):\n",
    "    if(a[i+1]-a[i]==1):\n",
    "        continue\n",
    "    else:\n",
    "        c=a[i]+1\n",
    "        break\n",
    "print(c)        "
   ]
  },
  {
   "cell_type": "raw",
   "metadata": {},
   "source": [
    "With a given list L, write a program to print this list L after removing all duplicate values with original order reserved.\n",
    "Example:\n",
    "If the input list is\n",
    "12 24 35 24 88 120 155 88 120 155\n",
    "Then the output should be\n",
    "12 24 35 88 120 155\n",
    "Explanation:\n",
    "Third, seventh and ninth element of the list L has been removed because it was already present.\n",
    "Input Format:\n",
    "In one line take the elements of the list L with each element separated by a space.\n",
    "Output Format:\n",
    "Print the elements of the modified list in one line with each element separated by a space.\n",
    "Example:\n",
    "Input: 12 24 35 24\n",
    "Output:\n",
    "12 24 35"
   ]
  },
  {
   "cell_type": "code",
   "execution_count": 6,
   "metadata": {},
   "outputs": [
    {
     "name": "stdout",
     "output_type": "stream",
     "text": [
      "12 24 35 24\n",
      "12 24 35 "
     ]
    }
   ],
   "source": [
    "l=list(map(int,input().split()))\n",
    "g=[]\n",
    "for i in l:\n",
    "    if i not in g:\n",
    "        g.append(i)\n",
    "for i in g:\n",
    "    print(i,end=\" \")"
   ]
  },
  {
   "cell_type": "code",
   "execution_count": null,
   "metadata": {},
   "outputs": [],
   "source": []
  }
 ],
 "metadata": {
  "kernelspec": {
   "display_name": "Python 3",
   "language": "python",
   "name": "python3"
  },
  "language_info": {
   "codemirror_mode": {
    "name": "ipython",
    "version": 3
   },
   "file_extension": ".py",
   "mimetype": "text/x-python",
   "name": "python",
   "nbconvert_exporter": "python",
   "pygments_lexer": "ipython3",
   "version": "3.7.3"
  }
 },
 "nbformat": 4,
 "nbformat_minor": 2
}
