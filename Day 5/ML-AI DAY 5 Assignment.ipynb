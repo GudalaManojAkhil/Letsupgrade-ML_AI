{
 "cells": [
  {
   "cell_type": "markdown",
   "metadata": {},
   "source": [
    "# Day 5 Assignment"
   ]
  },
  {
   "cell_type": "markdown",
   "metadata": {},
   "source": [
    "1.Write a Python program to find the first 20 non-even prime natural numbers.\n"
   ]
  },
  {
   "cell_type": "code",
   "execution_count": 16,
   "metadata": {},
   "outputs": [
    {
     "name": "stdout",
     "output_type": "stream",
     "text": [
      "20\n",
      "3\t5\t7\t11\t13\t17\t19\t23\t29\t31\t37\t41\t43\t47\t53\t59\t61\t67\t71\t73\t"
     ]
    }
   ],
   "source": [
    "def prime(n):\n",
    "    if(n<=1):\n",
    "        return 0\n",
    "    for i in range(2,n):\n",
    "        if(n%i==0):\n",
    "            return 0\n",
    "    return 1\n",
    "n=int(input())\n",
    "count=0\n",
    "i=0\n",
    "while(True):\n",
    "    if(i%2!=0):\n",
    "        if((prime(i))):\n",
    "            count+=1\n",
    "            print(i,end=\"\\t\")\n",
    "        if(count==n):\n",
    "                break\n",
    "    i+=1           \n",
    "                \n",
    "                "
   ]
  },
  {
   "cell_type": "markdown",
   "metadata": {},
   "source": [
    "2.Write a Python program to implement 15 functions of string.\n"
   ]
  },
  {
   "cell_type": "code",
   "execution_count": 2,
   "metadata": {},
   "outputs": [
    {
     "name": "stdout",
     "output_type": "stream",
     "text": [
      "7\n"
     ]
    }
   ],
   "source": [
    "string=\"abcdefg\"\n",
    "print(len(string))"
   ]
  },
  {
   "cell_type": "code",
   "execution_count": 3,
   "metadata": {},
   "outputs": [
    {
     "name": "stdout",
     "output_type": "stream",
     "text": [
      "abcdefghi\n"
     ]
    }
   ],
   "source": [
    "print(string+\"hi\")"
   ]
  },
  {
   "cell_type": "code",
   "execution_count": 5,
   "metadata": {},
   "outputs": [
    {
     "name": "stdout",
     "output_type": "stream",
     "text": [
      "bcdefg\n",
      "1\n"
     ]
    }
   ],
   "source": [
    "string1=string.replace(\"a\",\"\")\n",
    "print(string1)\n",
    "print(string.count(\"a\"))"
   ]
  },
  {
   "cell_type": "code",
   "execution_count": 6,
   "metadata": {},
   "outputs": [
    {
     "name": "stdout",
     "output_type": "stream",
     "text": [
      "ABCDEFG\n",
      "abcdefg\n"
     ]
    }
   ],
   "source": [
    "stringup=string.upper()\n",
    "stringlower=string.lower()\n",
    "print(stringup)\n",
    "print(stringlower)"
   ]
  },
  {
   "cell_type": "code",
   "execution_count": 7,
   "metadata": {},
   "outputs": [
    {
     "name": "stdout",
     "output_type": "stream",
     "text": [
      "0\n",
      "True\n",
      "True\n",
      "97\n",
      "1\n"
     ]
    }
   ],
   "source": [
    "print(string.index(\"a\"))\n",
    "print(\"a1\".isalnum())\n",
    "print(\"123\".isdigit())\n",
    "print(ord(\"a\"))\n",
    "print(\"{}\".format(1))"
   ]
  },
  {
   "cell_type": "code",
   "execution_count": 8,
   "metadata": {},
   "outputs": [
    {
     "name": "stdout",
     "output_type": "stream",
     "text": [
      "a*b*c\n"
     ]
    }
   ],
   "source": [
    "h=\"abc\"\n",
    "print(\"*\".join(h))"
   ]
  },
  {
   "cell_type": "code",
   "execution_count": 10,
   "metadata": {},
   "outputs": [
    {
     "name": "stdout",
     "output_type": "stream",
     "text": [
      "['a b c d f']\n"
     ]
    }
   ],
   "source": [
    "h=\"a b c d f\"\n",
    "arr=h.split(\",\")\n",
    "print(arr)"
   ]
  },
  {
   "cell_type": "code",
   "execution_count": 11,
   "metadata": {},
   "outputs": [
    {
     "name": "stdout",
     "output_type": "stream",
     "text": [
      "True\n",
      "True\n"
     ]
    }
   ],
   "source": [
    "print(\"a\".islower())\n",
    "print(\"A\".isupper())"
   ]
  },
  {
   "cell_type": "markdown",
   "metadata": {},
   "source": [
    "3.Write a Python program to check if the given string is a Palindrome or Anagram or None of them.\n",
    "Display the message accordingly to the user.\n"
   ]
  },
  {
   "cell_type": "code",
   "execution_count": 14,
   "metadata": {},
   "outputs": [
    {
     "name": "stdout",
     "output_type": "stream",
     "text": [
      "aba\n",
      "baa\n",
      "Both\n"
     ]
    }
   ],
   "source": [
    "def pali(n):\n",
    "    if(n[::-1]==n):\n",
    "        return 1\n",
    "def ana(n,m):\n",
    "    n.lower()\n",
    "    m.lower()\n",
    "    if(sorted(n)==sorted(m)):\n",
    "        return 1\n",
    "n=input()\n",
    "m=input()\n",
    "if(pali(n) and ana(n,m)):\n",
    "    print(\"Both\")\n",
    "elif(pali(n)):\n",
    "    print(\"palindrome\")\n",
    "elif(ana(n,m)):\n",
    "    print(\"Anagram\")\n",
    "else:\n",
    "    print(\"None\")"
   ]
  },
  {
   "cell_type": "markdown",
   "metadata": {},
   "source": [
    "4.Write a Python's user defined function that removes all the additional characters from the string\n",
    "and converts it finally to lower case using built-in lower(). eg: If the string is \"Dr. Darshan Ingle\n",
    "@AI-ML Trainer\", then the output be \"drdarshaningleaimltrainer\"."
   ]
  },
  {
   "cell_type": "code",
   "execution_count": 18,
   "metadata": {},
   "outputs": [
    {
     "name": "stdout",
     "output_type": "stream",
     "text": [
      "drdarshaningleaimltrainer"
     ]
    }
   ],
   "source": [
    "n=\"Dr.Darshan ingle @AI-ML Trainer\"\n",
    "for i in n:\n",
    "    if(i.isalpha()):\n",
    "        print(i.lower(),end=\"\")"
   ]
  },
  {
   "cell_type": "code",
   "execution_count": null,
   "metadata": {},
   "outputs": [],
   "source": []
  }
 ],
 "metadata": {
  "kernelspec": {
   "display_name": "Python 3",
   "language": "python",
   "name": "python3"
  },
  "language_info": {
   "codemirror_mode": {
    "name": "ipython",
    "version": 3
   },
   "file_extension": ".py",
   "mimetype": "text/x-python",
   "name": "python",
   "nbconvert_exporter": "python",
   "pygments_lexer": "ipython3",
   "version": "3.7.3"
  }
 },
 "nbformat": 4,
 "nbformat_minor": 2
}
